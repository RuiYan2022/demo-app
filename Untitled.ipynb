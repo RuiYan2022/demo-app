{
 "cells": [
  {
   "cell_type": "code",
   "execution_count": 1,
   "id": "bb682f6a-cc6a-4265-b919-41823481f4e9",
   "metadata": {},
   "outputs": [
    {
     "name": "stderr",
     "output_type": "stream",
     "text": [
      "C:\\Users\\t983641\\AppData\\Local\\Temp/ipykernel_12524/4069232243.py:2: UserWarning: \n",
      "The dash_table package is deprecated. Please replace\n",
      "`import dash_table` with `from dash import dash_table`\n",
      "\n",
      "Also, if you're using any of the table format helpers (e.g. Group), replace \n",
      "`from dash_table.Format import Group` with \n",
      "`from dash.dash_table.Format import Group`\n",
      "  import dash_table\n"
     ]
    }
   ],
   "source": [
    "\n",
    "\n",
    "import plotly.express as px\n",
    "import dash_table\n",
    "import pandas as pd \n",
    "import numpy as np\n",
    "\n",
    "\n",
    "\n",
    "savingFileDir = \"data/Kechnie\"\n",
    "yearlist = ['2022']\n",
    "totalDF = pd.DataFrame()\n",
    "for year in yearlist:\n",
    "    savingFile = savingFileDir+\"/Telus_CMP_Kechnie_\"+year+\"_Saving.csv\"\n",
    "    df = pd.read_csv(savingFile, engine='python')\n",
    "    df['Year'] = df['DispenseDate_SKey'].astype(str).str[0:4]\n",
    "    totalDF = totalDF.append(df)\n",
    "    print(\"Number of records :\", str(totalDF.shape[0]))\n",
    "subColumns = ['DIN', 'ROUTE_OF_ADMIN_DESC', 'COMMON_BRAND_NAME',\n",
    "       'DispenseDate_SKey', 'Product_Skey', 'DinClass8_Desc', 'QTY', 'DIN_COST', 'DAYS_SUPPLY', 'DRUG_COST',\n",
    "         'Province_Code',  'Saving_by_CostPerDaySupply', 'Year']\n",
    "finalDF = totalDF[subColumns]\n",
    "\n",
    "finalDF.to_csv(\"Kechnie.csv\", index=False)\n"
   ]
  },
  {
   "cell_type": "code",
   "execution_count": null,
   "id": "9d9bc6a2-f6c1-40b8-be26-c1c0a38865c9",
   "metadata": {},
   "outputs": [],
   "source": []
  }
 ],
 "metadata": {
  "kernelspec": {
   "display_name": "Python 3 (ipykernel)",
   "language": "python",
   "name": "python3"
  },
  "language_info": {
   "codemirror_mode": {
    "name": "ipython",
    "version": 3
   },
   "file_extension": ".py",
   "mimetype": "text/x-python",
   "name": "python",
   "nbconvert_exporter": "python",
   "pygments_lexer": "ipython3",
   "version": "3.9.7"
  }
 },
 "nbformat": 4,
 "nbformat_minor": 5
}
